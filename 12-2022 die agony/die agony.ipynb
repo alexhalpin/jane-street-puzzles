{
 "cells": [
  {
   "attachments": {},
   "cell_type": "markdown",
   "metadata": {},
   "source": [
    "## the cube\n",
    "this will make it easy to \"roll\" the cube around"
   ]
  },
  {
   "cell_type": "code",
   "execution_count": 124,
   "metadata": {},
   "outputs": [],
   "source": [
    "class Cube():\n",
    "    def __init__(self) -> None:\n",
    "        self.top = None\n",
    "        self.bottom = None\n",
    "        self.left = None\n",
    "        self.right = None\n",
    "        self.front = None\n",
    "        self.back = None\n",
    "\n",
    "    def roll(self, direction):\n",
    "\n",
    "        #roll forward\n",
    "        if direction == 0:\n",
    "            temp = self.bottom\n",
    "            self.bottom = self.front\n",
    "            self.front = self.top\n",
    "            self.top = self.back\n",
    "            self.back = temp\n",
    "\n",
    "        #roll right\n",
    "        if direction == 1:\n",
    "            temp = self.bottom\n",
    "            self.bottom = self.right\n",
    "            self.right = self.top\n",
    "            self.top = self.left\n",
    "            self.left = temp\n",
    "\n",
    "        #roll back\n",
    "        if direction == 2:\n",
    "            temp = self.bottom\n",
    "            self.bottom = self.back\n",
    "            self.back = self.top\n",
    "            self.top = self.front\n",
    "            self.front = temp\n",
    "        \n",
    "        #roll left\n",
    "        if direction == 3:\n",
    "            temp = self.bottom\n",
    "            self.bottom = self.left\n",
    "            self.left = self.top\n",
    "            self.top = self.right\n",
    "            self.right = temp\n",
    "\n",
    "    def __str__(self):\n",
    "        return f\"\"\"\n",
    "        \\t{self.front}\n",
    "        {self.left}\\t{self.top}\\t{self.right}\n",
    "        \\t{self.back}\n",
    "        \\t{self.bottom}\n",
    "        \"\"\""
   ]
  },
  {
   "attachments": {},
   "cell_type": "markdown",
   "metadata": {},
   "source": [
    "## the state\n",
    "this will keep track of the cube, score, and N as the cube moves around"
   ]
  },
  {
   "cell_type": "code",
   "execution_count": 125,
   "metadata": {},
   "outputs": [],
   "source": [
    "class PlayerState():\n",
    "    def __init__(self) -> None:\n",
    "        self.cube = Cube()\n",
    "\n",
    "        self.N = 0\n",
    "        self.score = 0\n",
    "        self.x = 0\n",
    "        self.y = 0\n",
    "\n",
    "        self.history = [(0,0)]\n",
    "\n",
    "    def move(self, d, dir):\n",
    "        self.N += 1\n",
    "        self.cube.roll(d)\n",
    "        self.x += dir[0]\n",
    "        self.y += dir[1]\n",
    "\n",
    "        self.history.append((self.x, self.y))\n",
    "        "
   ]
  },
  {
   "attachments": {},
   "cell_type": "markdown",
   "metadata": {},
   "source": [
    "## the grid\n",
    "\n",
    "this just makes it easier to have the bottom left as 0,0"
   ]
  },
  {
   "cell_type": "code",
   "execution_count": 126,
   "metadata": {},
   "outputs": [],
   "source": [
    "class Grid():\n",
    "    def __init__(self, grid) -> None:\n",
    "        self.grid = grid\n",
    "        self.rows = len(self.grid)\n",
    "        self.cols = len(self.grid[0])\n",
    "\n",
    "    def get(self, x, y):\n",
    "        return self.grid[self.rows - 1 - y][x]\n",
    "\n",
    "    def set(self, x, y, v):\n",
    "        self.grid[self.rows - 1 - y][x] = v\n",
    "\n",
    "    def valid(self, x, y):\n",
    "        if x<0 or x>=self.cols:\n",
    "            return False\n",
    "\n",
    "        if y<0 or y>=self.rows:\n",
    "            return False\n",
    "        \n",
    "        return True\n",
    "\n",
    "    def __str__(self):\n",
    "        os = \"\"\n",
    "        for row in self.grid:\n",
    "            r = \"\"\n",
    "            for item in row:\n",
    "                r += \"\\t\" + str(item)\n",
    "            os += r + '\\n'\n",
    "        return os"
   ]
  },
  {
   "cell_type": "code",
   "execution_count": 127,
   "metadata": {},
   "outputs": [],
   "source": [
    "grid = Grid(\n",
    "    [\n",
    "    [  57,  33, 132, 268, 492, 732],\n",
    "    [  81, 123, 240, 443, 353, 508],\n",
    "    [ 186,  42, 195, 704, 452, 228],\n",
    "    [  -7,   2, 357, 452, 317, 395],\n",
    "    [   5,  23,  -4, 592, 445, 620],\n",
    "    [   0,  77,  32, 403, 337, 452]\n",
    "    ]\n",
    ")"
   ]
  },
  {
   "attachments": {},
   "cell_type": "markdown",
   "metadata": {},
   "source": [
    "## DFS\n",
    "\n",
    "Roll our cube around checking every path. If the score of the move matches the tile, keep going.\n",
    "Our cube is blank to start so if the top face is blank when we reach a tile, just set the face\n",
    "equal to whatever it needs to be for the roll to be valid."
   ]
  },
  {
   "cell_type": "code",
   "execution_count": 128,
   "metadata": {},
   "outputs": [],
   "source": [
    "dirs = ((0,1), (1,0), (0,-1), (-1,0))\n",
    "import copy\n",
    "\n",
    "\n",
    "def rec(state):\n",
    "    #did we win?\n",
    "    if state.x == grid.cols-1 and state.y == grid.rows-1:\n",
    "        return state\n",
    "    \n",
    "    #dfs\n",
    "    for d, dir in enumerate(dirs):\n",
    "        dx, dy = dir\n",
    "        nx, ny = state.x + dx, state.y + dy\n",
    "        \n",
    "        if not grid.valid(nx, ny):\n",
    "            continue\n",
    "\n",
    "        new_state = copy.deepcopy(state)\n",
    "        new_state.move(d, dir)\n",
    "\n",
    "        #in order to move to this tile, what would the top face have to be?\n",
    "        tile_val = grid.get(nx, ny)\n",
    "        diff = tile_val - new_state.score\n",
    "        pot_face = diff / new_state.N\n",
    "\n",
    "        # if its not a whole number, skip\n",
    "        if not pot_face.is_integer():\n",
    "            continue\n",
    "\n",
    "        # if the top face isnt the right number, skip\n",
    "        if new_state.cube.top is not None and new_state.cube.top != pot_face:\n",
    "            continue\n",
    "\n",
    "        # top face is either none or the right number\n",
    "        # if none, set it to the right number\n",
    "        new_state.score = tile_val\n",
    "        if new_state.cube.top == None:\n",
    "            new_state.cube.top = pot_face\n",
    "\n",
    "        # sanity check\n",
    "        assert pot_face == new_state.cube.top\n",
    "\n",
    "        ret = rec(new_state)\n",
    "        if ret is not None:\n",
    "            return ret\n",
    "\n",
    "ans = rec(PlayerState())"
   ]
  },
  {
   "attachments": {},
   "cell_type": "markdown",
   "metadata": {},
   "source": [
    "# the answer"
   ]
  },
  {
   "cell_type": "code",
   "execution_count": 133,
   "metadata": {},
   "outputs": [
    {
     "name": "stdout",
     "output_type": "stream",
     "text": [
      "1935\n"
     ]
    }
   ],
   "source": [
    "import numpy as np\n",
    "\n",
    "grid2 = copy.deepcopy(grid)\n",
    "for x,y in ans.history:\n",
    "    grid2.set(x,y,0)\n",
    "\n",
    "final_answer = np.sum(np.array(grid2.grid))\n",
    "print(final_answer)"
   ]
  },
  {
   "attachments": {},
   "cell_type": "markdown",
   "metadata": {},
   "source": [
    "## trace the cube back to see how it started\n"
   ]
  },
  {
   "cell_type": "code",
   "execution_count": 130,
   "metadata": {},
   "outputs": [],
   "source": [
    "rev = list(reversed(ans.history))\n",
    "rev_steps = []\n",
    "for i in range(len(rev)-1):\n",
    "    x1, y1 = rev[i]\n",
    "    x2, y2 = rev[i+1]\n",
    "\n",
    "    rev_steps.append((x2-x1, y2-y1))"
   ]
  },
  {
   "cell_type": "code",
   "execution_count": 131,
   "metadata": {},
   "outputs": [],
   "source": [
    "dirs_dict = {\n",
    "    (0,1) : 0,\n",
    "    (1,0) : 1,\n",
    "    (0,-1): 2,\n",
    "    (-1,0): 3\n",
    "}\n",
    "\n",
    "rev_dirs = [dirs_dict[step] for step in rev_steps]\n",
    "rev_cube = copy.deepcopy(ans.cube)\n",
    "for dir in rev_dirs:\n",
    "    rev_cube.roll(dir)"
   ]
  },
  {
   "attachments": {},
   "cell_type": "markdown",
   "metadata": {},
   "source": [
    "## starting cube, steps, final answer"
   ]
  },
  {
   "cell_type": "code",
   "execution_count": 132,
   "metadata": {},
   "outputs": [
    {
     "name": "stdout",
     "output_type": "stream",
     "text": [
      "1935\n",
      "\n",
      "        \t-9.0\n",
      "        9.0\t9.0\t-3.0\n",
      "        \t5.0\n",
      "        \t7.0\n",
      "        \n",
      "[(0, 0), (0, 1), (1, 1), (2, 1), (2, 0), (1, 0), (1, 1), (1, 2), (1, 3), (1, 4), (1, 5), (2, 5), (2, 4), (1, 4), (0, 4), (0, 3), (1, 3), (2, 3), (2, 2), (3, 2), (3, 1), (3, 0), (4, 0), (5, 0), (5, 1), (5, 2), (4, 2), (3, 2), (3, 3), (3, 4), (4, 4), (5, 4), (5, 5)]\n"
     ]
    }
   ],
   "source": [
    "print(final_answer)\n",
    "print(rev_cube)\n",
    "print(ans.history)"
   ]
  },
  {
   "attachments": {},
   "cell_type": "markdown",
   "metadata": {},
   "source": [
    "<img src=\"https://www.janestreet.com/puzzles/die-agony.png\" alt=\"drawing\" width=\"200\"/>"
   ]
  }
 ],
 "metadata": {
  "kernelspec": {
   "display_name": "Python 3.9 (cs2470)",
   "language": "python",
   "name": "cs2470"
  },
  "language_info": {
   "codemirror_mode": {
    "name": "ipython",
    "version": 3
   },
   "file_extension": ".py",
   "mimetype": "text/x-python",
   "name": "python",
   "nbconvert_exporter": "python",
   "pygments_lexer": "ipython3",
   "version": "3.9.13 | packaged by conda-forge | (main, May 27 2022, 17:00:33) \n[Clang 13.0.1 ]"
  },
  "orig_nbformat": 4,
  "vscode": {
   "interpreter": {
    "hash": "9b8e55ef0cfee73db425eaa8eb6128edb5a682d2ae40e31a8f0ce6cfe2296a43"
   }
  }
 },
 "nbformat": 4,
 "nbformat_minor": 2
}
