{
 "cells": [
  {
   "attachments": {},
   "cell_type": "markdown",
   "metadata": {},
   "source": [
    "<img src=\"https://www.janestreet.com/puzzles/pent-up-frustration-2.png\" alt=\"drawing\" width=\"300\"/>\n",
    "\n",
    "You have seventeen identical unit regular pentagonal tiles on a tabletop. If you arrange them all into a single polyform (so each pentagon placed after the first shares a side with an already-placed pentagon, but no two pentagons overlap other than along their boundaries), what is the smallest nonzero distance you can create between two of the pentagons? Here, the distance between pentagon A and pentagon B is the infimum of the set of distances between any point of A and any point of B. Give your answer rounded to seven decimal places.\n",
    "\n",
    "[As an example, if you only had four pentagons the answer would be ~0.5877853, from the arrangement pictured above.]"
   ]
  },
  {
   "cell_type": "code",
   "execution_count": 345,
   "metadata": {},
   "outputs": [],
   "source": [
    "from sympy import Polygon, RegularPolygon, pi, Point2D\n",
    "import sympy\n",
    "\n",
    "class Pent:\n",
    "    def __init__(self, center, angle=0):\n",
    "        self.base_angle = pi/10\n",
    "        self.angle = angle\n",
    "        self.center = center\n",
    "\n",
    "        self.polygon = RegularPolygon(center, 1, 5, rot=self.base_angle)\n",
    "        self.set_angle(angle)\n",
    "\n",
    "        self.label = None\n",
    "        self.child = None\n",
    "        self.parent = None\n",
    "        self.parent_face = None\n",
    "\n",
    "    def attach(self, face: int):\n",
    "        assert face <= 4 , 'face error'\n",
    "\n",
    "        cx, cy = self.polygon.centroid\n",
    "\n",
    "        ir = sympy.cos(pi/5)\n",
    "\n",
    "        parent_angle = self.polygon.rotation - pi/10\n",
    "        base_angle = -pi\n",
    "        face_angle = face * (2*pi)/5\n",
    "        total_angle = parent_angle + face_angle + base_angle\n",
    "\n",
    "        nx = 2*ir*sympy.sin(parent_angle + face_angle) + cx\n",
    "        ny = -2*ir*sympy.cos(parent_angle + face_angle) + cy\n",
    "        \n",
    "        self.child = type(self)(Point2D(nx, ny), angle=total_angle)\n",
    "        self.child.parent = self\n",
    "        self.child.parent_face = face\n",
    "\n",
    "        return self.child\n",
    "    \n",
    "    def set_angle(self, angle):\n",
    "        self.polygon.spin((angle+self.base_angle) - self.polygon.rotation)\n",
    "\n",
    "    def is_overlap(self, polygons: list):\n",
    "        overlapping = False\n",
    "\n",
    "        for p in polygons:\n",
    "            dist = self.polygon.centroid.distance(p.polygon.centroid)\n",
    "            if dist < 1.618:\n",
    "                overlapping = True\n",
    "                break\n",
    "        \n",
    "        return overlapping"
   ]
  },
  {
   "cell_type": "code",
   "execution_count": 346,
   "metadata": {},
   "outputs": [],
   "source": [
    "from matplotlib import pyplot as plt\n",
    "from matplotlib.axes import Axes\n",
    "import random\n",
    "\n",
    "def plot_pentagon(pent: Pent, ax: Axes, color=None):\n",
    "    if color is None:\n",
    "        color = random.choice(['b', 'g', 'r', 'c', 'm', 'y'])\n",
    "    x, y = list(zip(*[v.evalf().coordinates for v in pent.polygon.vertices]))\n",
    "\n",
    "    ax.fill(x,y, color)\n",
    "\n",
    "    apex = pent.polygon.vertices[1].evalf().coordinates\n",
    "    ax.plot(apex[0], apex[1], color=color, marker='o', linestyle='dashed',\n",
    "     linewidth=2, markersize=12)\n",
    "\n",
    "    if pent.label:\n",
    "        ax.text(*pent.polygon.centroid, pent.label, va='center', ha='center')\n",
    "\n",
    "def plot_pentagons(pentl: list[Pent], ax: Axes):\n",
    "    for pent in pentl:\n",
    "        plot_pentagon(pent, ax)"
   ]
  },
  {
   "cell_type": "code",
   "execution_count": 459,
   "metadata": {},
   "outputs": [],
   "source": [
    "import copy\n",
    "import time\n",
    "\n",
    "def dfs(prev_chain, min_dist, best_chain, tally):\n",
    "    print(f'\\r\\33[2KTally: \\t{tally[0]}\\t{tally[1]}\\t{tally[2]}\\t{min_dist[0]}', end=\"\")\n",
    "\n",
    "    ## total tally\n",
    "    tally[0]+=1\n",
    "\n",
    "    ## if 5000 trials without finding new minimum\n",
    "    # if tally[2] > 5000:\n",
    "    #     return\n",
    "\n",
    "    curr_chain = copy.deepcopy(prev_chain)\n",
    "    end_node = curr_chain[-1]\n",
    "\n",
    "    if(len(curr_chain) == 17):\n",
    "\n",
    "        tally[1]+=1\n",
    "        tally[2]+=1\n",
    "        dist = end_node.polygon.centroid.distance(curr_chain[0].polygon.centroid).evalf()\n",
    "\n",
    "        if dist > 1.6181 and dist<min_dist[0]:\n",
    "            tally[2]*=0\n",
    "            min_dist[0] = dist\n",
    "            best_chain[0] = curr_chain\n",
    "        return\n",
    "\n",
    "    faces = [1, 2, 3, 4]\n",
    "    if end_node.parent_face in (1,4):\n",
    "        faces.remove(end_node.parent_face)\n",
    "\n",
    "    for face in faces:\n",
    "        pot_child = end_node.attach(face)\n",
    "        # if not pot_child.is_overlap(curr_chain):\n",
    "        dfs([*curr_chain, pot_child], min_dist, best_chain, tally)"
   ]
  },
  {
   "cell_type": "code",
   "execution_count": null,
   "metadata": {},
   "outputs": [],
   "source": [
    "t0 = time.time()\n",
    "\n",
    "parent = Pent((0,0))\n",
    "child0 = parent.attach(2)\n",
    "chain = [parent, child0]\n",
    "\n",
    "best_chain = [[]]\n",
    "min_dist = [5000]\n",
    "tally = [0,0,0]\n",
    "\n",
    "dfs(chain, min_dist, best_chain, tally)\n",
    "\n",
    "t1 = time.time()"
   ]
  },
  {
   "cell_type": "code",
   "execution_count": 463,
   "metadata": {},
   "outputs": [
    {
     "data": {
      "image/png": "[encoded data removed]",
      "text/plain": [
       "<Figure size 500x500 with 1 Axes>"
      ]
     },
     "metadata": {},
     "output_type": "display_data"
    }
   ],
   "source": [
    "fig, ax = plt.subplots(figsize=(5,5))\n",
    "ax.set_aspect('equal')\n",
    "\n",
    "plot_pentagons(best_chain[0], ax)"
   ]
  }
 ],
 "metadata": {
  "kernelspec": {
   "display_name": "Python 3.9 (cs2470)",
   "language": "python",
   "name": "cs2470"
  },
  "language_info": {
   "codemirror_mode": {
    "name": "ipython",
    "version": 3
   },
   "file_extension": ".py",
   "mimetype": "text/x-python",
   "name": "python",
   "nbconvert_exporter": "python",
   "pygments_lexer": "ipython3",
   "version": "3.9.13 | packaged by conda-forge | (main, May 27 2022, 17:00:33) \n[Clang 13.0.1 ]"
  },
  "orig_nbformat": 4,
  "vscode": {
   "interpreter": {
    "hash": "9b8e55ef0cfee73db425eaa8eb6128edb5a682d2ae40e31a8f0ce6cfe2296a43"
   }
  }
 },
 "nbformat": 4,
 "nbformat_minor": 2
}
